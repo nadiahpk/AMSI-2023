{
 "cells": [
  {
   "cell_type": "markdown",
   "id": "lined-colombia",
   "metadata": {},
   "source": [
    "# Tutorial: Using sympy to check if mixed strategy is evolutionarily stable"
   ]
  },
  {
   "cell_type": "code",
   "execution_count": 2,
   "id": "confused-father",
   "metadata": {},
   "outputs": [],
   "source": [
    "from sympy import *"
   ]
  },
  {
   "cell_type": "markdown",
   "id": "breeding-notification",
   "metadata": {},
   "source": [
    "## 1. Hawk-dove game"
   ]
  },
  {
   "cell_type": "markdown",
   "id": "centered-depression",
   "metadata": {},
   "source": [
    "I have a mixed strategy Nash equilibrium for the Hawk Dove game\n",
    "\n",
    "$$\n",
    "\\sigma^* = \\left( \\frac{V}{C}, 1 - \\frac{V}{C} \\right)\n",
    "$$\n",
    "\n",
    "and I want to check if it is evolutionarily stable. The mixed strategy is always weak Nash, so I need to check the \"extra\" condition\n",
    "\n",
    "$$\n",
    "\\pi(\\sigma^*, \\sigma) - \\pi(\\sigma, \\sigma) > 0 \\ \\forall \\sigma \\neq \\sigma^*\n",
    "$$"
   ]
  },
  {
   "cell_type": "code",
   "execution_count": 3,
   "id": "pointed-monte",
   "metadata": {},
   "outputs": [],
   "source": [
    "p, p_s, V, C = symbols('p p_s V C')"
   ]
  },
  {
   "cell_type": "markdown",
   "id": "compressed-singer",
   "metadata": {},
   "source": [
    "Left-hand term: $\\pi(\\sigma^*, \\sigma)$"
   ]
  },
  {
   "cell_type": "code",
   "execution_count": 4,
   "id": "overall-sauce",
   "metadata": {},
   "outputs": [
    {
     "data": {
      "text/latex": [
       "$\\displaystyle V \\left(1 - p\\right) \\left(1 - p_{s}\\right) + p_{s} \\left(2 V \\left(1 - p\\right) + p \\left(- C + V\\right)\\right)$"
      ],
      "text/plain": [
       "V*(1 - p)*(1 - p_s) + p_s*(2*V*(1 - p) + p*(-C + V))"
      ]
     },
     "execution_count": 4,
     "metadata": {},
     "output_type": "execute_result"
    }
   ],
   "source": [
    "LHT = p_s * ((V-C)*p + 2*V*(1-p)) + (1-p_s)*(V*(1-p))\n",
    "LHT"
   ]
  },
  {
   "cell_type": "markdown",
   "id": "legal-hobby",
   "metadata": {},
   "source": [
    "Right-hand term: $\\pi(\\sigma, \\sigma)$"
   ]
  },
  {
   "cell_type": "code",
   "execution_count": 5,
   "id": "transparent-congo",
   "metadata": {},
   "outputs": [],
   "source": [
    "RHT = p * ((V-C)*p + 2*V*(1-p)) + (1-p)*(V*(1-p))"
   ]
  },
  {
   "cell_type": "markdown",
   "id": "oriented-omega",
   "metadata": {},
   "source": [
    "Call the difference between them F"
   ]
  },
  {
   "cell_type": "code",
   "execution_count": 6,
   "id": "nearby-gregory",
   "metadata": {},
   "outputs": [
    {
     "data": {
      "text/latex": [
       "$\\displaystyle C p^{2} - C p p_{s} - V p + V p_{s}$"
      ],
      "text/plain": [
       "C*p**2 - C*p*p_s - V*p + V*p_s"
      ]
     },
     "execution_count": 6,
     "metadata": {},
     "output_type": "execute_result"
    }
   ],
   "source": [
    "F = LHT - RHT\n",
    "F = F.expand().simplify()\n",
    "F"
   ]
  },
  {
   "cell_type": "code",
   "execution_count": 7,
   "id": "experimental-citizen",
   "metadata": {},
   "outputs": [
    {
     "data": {
      "text/latex": [
       "$\\displaystyle C p^{2} - 2 V p + \\frac{V^{2}}{C}$"
      ],
      "text/plain": [
       "C*p**2 - 2*V*p + V**2/C"
      ]
     },
     "execution_count": 7,
     "metadata": {},
     "output_type": "execute_result"
    }
   ],
   "source": [
    "F2 = F.subs({p_s: V/C})\n",
    "F2"
   ]
  },
  {
   "cell_type": "markdown",
   "id": "loaded-period",
   "metadata": {},
   "source": [
    "And I know that this is always positive.\n",
    "\n",
    "\n",
    "Specifically,\n",
    "$$\n",
    "\\begin{align*}\n",
    "Cp^2 - 2Vp + V^2/C &> 0, \\\\\n",
    "C^2p^2 - 2VCp + V^2 &> 0, \\\\\n",
    "(Cp - V)^2 &> 0,\n",
    "\\end{align*}\n",
    "$$\n",
    "is always true."
   ]
  },
  {
   "cell_type": "markdown",
   "id": "periodic-space",
   "metadata": {},
   "source": [
    "## 2. Coordination game"
   ]
  },
  {
   "cell_type": "markdown",
   "id": "informational-tissue",
   "metadata": {},
   "source": [
    "This is called a coordination game, where there are two symmetric NE. It is also the normal form payoff matrix for the tit-for-tat example from earlier."
   ]
  },
  {
   "cell_type": "markdown",
   "id": "entertaining-doctor",
   "metadata": {},
   "source": [
    "<table>\n",
    "  <tr>\n",
    "    <td></td>\n",
    "    <th>tit-for-tat</th>\n",
    "    <th>all-defect</th>\n",
    "  </tr>\n",
    "  <tr>\n",
    "      <th>tit-for-tat</th>\n",
    "      <td>16, 16</td>\n",
    "      <td>1, 11</td>\n",
    "  </tr>\n",
    "  <tr>\n",
    "      <th>all-defect</th>\n",
    "      <td>11, 1</td>\n",
    "      <td>2, 2</td>\n",
    "  </tr>\n",
    "</table>"
   ]
  },
  {
   "cell_type": "markdown",
   "id": "wanted-mineral",
   "metadata": {},
   "source": [
    "Your goal is to verify what you learnt from plotting, that the mixed strategy Nash equilibrium\n",
    "\n",
    "$$\n",
    "\\sigma^* = \\left( \\frac{1}{6}, 1 - \\frac{1}{6} \\right),\n",
    "$$\n",
    "\n",
    "which means playing tit-for-tat in one 1/6 of encounters and all-defect in 5/6 of encounters, is NOT evolutionarily stable."
   ]
  },
  {
   "cell_type": "code",
   "execution_count": null,
   "id": "previous-giving",
   "metadata": {},
   "outputs": [],
   "source": []
  }
 ],
 "metadata": {
  "kernelspec": {
   "display_name": "Python 3",
   "language": "python",
   "name": "python3"
  },
  "language_info": {
   "codemirror_mode": {
    "name": "ipython",
    "version": 3
   },
   "file_extension": ".py",
   "mimetype": "text/x-python",
   "name": "python",
   "nbconvert_exporter": "python",
   "pygments_lexer": "ipython3",
   "version": "3.9.2"
  }
 },
 "nbformat": 4,
 "nbformat_minor": 5
}
