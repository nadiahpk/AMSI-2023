{
 "cells": [
  {
   "cell_type": "markdown",
   "id": "sensitive-relevance",
   "metadata": {},
   "source": [
    "# Tutorial: Replicator dynamics"
   ]
  },
  {
   "cell_type": "markdown",
   "id": "skilled-auction",
   "metadata": {},
   "source": [
    "Load useful modules"
   ]
  },
  {
   "cell_type": "code",
   "execution_count": 5,
   "id": "medium-unemployment",
   "metadata": {},
   "outputs": [],
   "source": [
    "import numpy as np\n",
    "import matplotlib.pyplot as plt"
   ]
  },
  {
   "cell_type": "markdown",
   "id": "disciplinary-employer",
   "metadata": {},
   "source": [
    "Plot size I like"
   ]
  },
  {
   "cell_type": "code",
   "execution_count": 6,
   "id": "agreed-spank",
   "metadata": {},
   "outputs": [
    {
     "data": {
      "text/html": [
       "\n",
       "    <style>\n",
       "        .output_png {\n",
       "            display: table-cell;\n",
       "            text-align: center;\n",
       "            vertical-align: middle;\n",
       "        }\n",
       "    </style>\n"
      ],
      "text/plain": [
       "<IPython.core.display.HTML object>"
      ]
     },
     "execution_count": 6,
     "metadata": {},
     "output_type": "execute_result"
    }
   ],
   "source": [
    "plt.rcParams['font.size'] = '16'\n",
    "plt.rcParams['figure.figsize'] = [7, 5]\n",
    "from IPython.core.display import HTML\n",
    "HTML(\"\"\"\n",
    "    <style>\n",
    "        .output_png {\n",
    "            display: table-cell;\n",
    "            text-align: center;\n",
    "            vertical-align: middle;\n",
    "        }\n",
    "    </style>\n",
    "\"\"\")"
   ]
  },
  {
   "cell_type": "markdown",
   "id": "dated-pointer",
   "metadata": {},
   "source": [
    "## 1. Hawk-dove"
   ]
  },
  {
   "cell_type": "markdown",
   "id": "joined-effects",
   "metadata": {},
   "source": [
    "Choose parameters $V < C$."
   ]
  },
  {
   "cell_type": "code",
   "execution_count": 3,
   "id": "corporate-daisy",
   "metadata": {},
   "outputs": [],
   "source": [
    "V = 3\n",
    "C = 4"
   ]
  },
  {
   "cell_type": "markdown",
   "id": "induced-samoa",
   "metadata": {},
   "source": [
    "Payoffs"
   ]
  },
  {
   "cell_type": "code",
   "execution_count": 4,
   "id": "comprehensive-jewel",
   "metadata": {},
   "outputs": [],
   "source": [
    "pi = {\n",
    "    'D, D': V/2,\n",
    "    'D, H': 0,\n",
    "    'H, D': V,\n",
    "    'H, H': (V-C)/2\n",
    "}"
   ]
  },
  {
   "cell_type": "markdown",
   "id": "eleven-district",
   "metadata": {},
   "source": [
    "Fitness effects $f_H$ and $f_D$"
   ]
  },
  {
   "cell_type": "code",
   "execution_count": 5,
   "id": "consistent-tribute",
   "metadata": {},
   "outputs": [],
   "source": [
    "# write as functions\n",
    "\n",
    "fH = lambda pH, pD: pH*pi['H, H'] + pD*pi['H, D']\n",
    "fD = lambda pH, pD: pH*pi['D, H'] + pD*pi['D, D']"
   ]
  },
  {
   "cell_type": "markdown",
   "id": "fiscal-nylon",
   "metadata": {},
   "source": [
    "Dynamics $\\dot{p}_H$"
   ]
  },
  {
   "cell_type": "code",
   "execution_count": 6,
   "id": "dressed-carolina",
   "metadata": {},
   "outputs": [],
   "source": [
    "dot_pH = lambda pH: pH*(1-pH)*(fH(pH, 1-pH) - fD(pH, 1-pH))"
   ]
  },
  {
   "cell_type": "markdown",
   "id": "strategic-circle",
   "metadata": {},
   "source": [
    "Plot $\\dot{p}_H$ for $p_h = 0$ to $1$."
   ]
  },
  {
   "cell_type": "code",
   "execution_count": 7,
   "id": "pending-sweet",
   "metadata": {},
   "outputs": [],
   "source": [
    "pHV = np.linspace(0, 1, 100)"
   ]
  },
  {
   "cell_type": "code",
   "execution_count": 8,
   "id": "infectious-andorra",
   "metadata": {},
   "outputs": [],
   "source": [
    "dot_pH_res = [dot_pH(pH) for pH in pHV]"
   ]
  },
  {
   "cell_type": "code",
   "execution_count": 9,
   "id": "middle-student",
   "metadata": {},
   "outputs": [
    {
     "data": {
      "image/png": "[encoded data removed]",
      "text/plain": [
       "<Figure size 504x360 with 1 Axes>"
      ]
     },
     "metadata": {
      "needs_background": "light"
     },
     "output_type": "display_data"
    }
   ],
   "source": [
    "plt.plot(pHV, dot_pH_res, color='blue', label='$\\dot{p}_H$')\n",
    "plt.axhline(0, color='black') # a vertical line to show where the x-axis is (dp_H / dt = 0)\n",
    "plt.scatter([V/C, 0, 1], [0, 0, 0], s=100, color='black') # steady states\n",
    "plt.xlabel('propn hawks in popn, $p_H$')\n",
    "plt.ylabel('change in propn hawks, $\\dot{p}_H$')\n",
    "plt.plot()\n",
    "plt.show()"
   ]
  },
  {
   "cell_type": "markdown",
   "id": "banned-appointment",
   "metadata": {},
   "source": [
    "## 2. Tit-for-tat"
   ]
  },
  {
   "cell_type": "markdown",
   "id": "minute-trademark",
   "metadata": {},
   "source": [
    "Your goal is to make a similar plot to the one above for tit-for-tat versus all-defect. Use the payoffs:"
   ]
  },
  {
   "cell_type": "code",
   "execution_count": 1,
   "id": "wrapped-green",
   "metadata": {},
   "outputs": [
    {
     "data": {
      "text/plain": [
       "{'T, T': 16, 'T, D': 1, 'D, T': 11, 'D, D': 2}"
      ]
     },
     "execution_count": 1,
     "metadata": {},
     "output_type": "execute_result"
    }
   ],
   "source": [
    "pi = {\n",
    "    'T, T': 16,\n",
    "    'T, D': 1,\n",
    "    'D, T': 11,\n",
    "    'D, D': 2\n",
    "}\n",
    "pi"
   ]
  }
 ],
 "metadata": {
  "kernelspec": {
   "display_name": "Python 3",
   "language": "python",
   "name": "python3"
  },
  "language_info": {
   "codemirror_mode": {
    "name": "ipython",
    "version": 3
   },
   "file_extension": ".py",
   "mimetype": "text/x-python",
   "name": "python",
   "nbconvert_exporter": "python",
   "pygments_lexer": "ipython3",
   "version": "3.9.2"
  }
 },
 "nbformat": 4,
 "nbformat_minor": 5
}
