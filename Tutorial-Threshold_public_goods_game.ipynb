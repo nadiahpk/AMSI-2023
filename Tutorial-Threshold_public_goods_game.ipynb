{
 "cells": [
  {
   "cell_type": "markdown",
   "id": "developed-dodge",
   "metadata": {},
   "source": [
    "# Tutorial: Threshold public goods game"
   ]
  },
  {
   "cell_type": "code",
   "execution_count": 1,
   "id": "premium-frank",
   "metadata": {},
   "outputs": [],
   "source": [
    "import numpy as np\n",
    "import matplotlib.pyplot as plt\n",
    "from scipy.special import binom"
   ]
  },
  {
   "cell_type": "code",
   "execution_count": 2,
   "id": "secure-michael",
   "metadata": {},
   "outputs": [
    {
     "data": {
      "text/html": [
       "\n",
       "    <style>\n",
       "        .output_png {\n",
       "            display: table-cell;\n",
       "            text-align: center;\n",
       "            vertical-align: middle;\n",
       "        }\n",
       "    </style>\n"
      ],
      "text/plain": [
       "<IPython.core.display.HTML object>"
      ]
     },
     "execution_count": 2,
     "metadata": {},
     "output_type": "execute_result"
    }
   ],
   "source": [
    "plt.rcParams['font.size'] = '16'\n",
    "plt.rcParams['figure.figsize'] = [7, 5]\n",
    "from IPython.core.display import HTML\n",
    "HTML(\"\"\"\n",
    "    <style>\n",
    "        .output_png {\n",
    "            display: table-cell;\n",
    "            text-align: center;\n",
    "            vertical-align: middle;\n",
    "        }\n",
    "    </style>\n",
    "\"\"\")"
   ]
  },
  {
   "cell_type": "markdown",
   "id": "instant-amateur",
   "metadata": {},
   "source": [
    "## 1. Example threshold game"
   ]
  },
  {
   "cell_type": "markdown",
   "id": "spoken-silly",
   "metadata": {},
   "source": [
    "Normalise the game by setting maximum benefit $b = 1$"
   ]
  },
  {
   "cell_type": "code",
   "execution_count": 3,
   "id": "mineral-catalyst",
   "metadata": {},
   "outputs": [],
   "source": [
    "b = 1"
   ]
  },
  {
   "cell_type": "markdown",
   "id": "typical-catholic",
   "metadata": {},
   "source": [
    "Write the cooperator and defector payoffs in terms of $k$, the number of cooperators among the $n-1$ other members of the group"
   ]
  },
  {
   "cell_type": "code",
   "execution_count": 4,
   "id": "activated-finance",
   "metadata": {},
   "outputs": [],
   "source": [
    "# cooperator payoff pi_C(k)\n",
    "ak = lambda k, tau, c: b-c if k >= tau-1 else -c\n",
    "\n",
    "# defector payoff pi_D(k)\n",
    "bk = lambda k, tau: b if k >= tau else 0"
   ]
  },
  {
   "cell_type": "markdown",
   "id": "smooth-suggestion",
   "metadata": {},
   "source": [
    "The fitness effects:"
   ]
  },
  {
   "cell_type": "code",
   "execution_count": 5,
   "id": "satellite-visibility",
   "metadata": {},
   "outputs": [],
   "source": [
    "# fitness effect of playing cooperate (p is the proportion of cooperators)\n",
    "fC = lambda p, n, tau, c: sum(binom(n-1, k) * p**k * (1-p)**(n-1-k) * ak(k, tau, c) for k in range(n))\n",
    "\n",
    "# fitness effect of playing defect\n",
    "fD = lambda p, n, tau: sum(binom(n-1, k) * p**k * (1-p)**(n-1-k) * bk(k, tau) for k in range(n))"
   ]
  },
  {
   "cell_type": "markdown",
   "id": "closing-local",
   "metadata": {},
   "source": [
    "The replicator dynamics equation $\\dot{p}_C$"
   ]
  },
  {
   "cell_type": "code",
   "execution_count": 6,
   "id": "surrounded-samoa",
   "metadata": {},
   "outputs": [],
   "source": [
    "# the function defining dp/dt\n",
    "dot_pC = lambda pC, n, tau, c: pC*(1-pC)*(fC(pC, n, tau, c) - fD(pC, n, tau))"
   ]
  },
  {
   "cell_type": "markdown",
   "id": "collectible-marks",
   "metadata": {},
   "source": [
    "My choice of paramater values for this example"
   ]
  },
  {
   "cell_type": "code",
   "execution_count": 7,
   "id": "secondary-sharing",
   "metadata": {},
   "outputs": [],
   "source": [
    "# choose parameter values\n",
    "n = 8\n",
    "tau = 5\n",
    "c = 0.2"
   ]
  },
  {
   "cell_type": "markdown",
   "id": "bound-tiger",
   "metadata": {},
   "source": [
    "Write the $\\dot{p}$ function and evaluate it for a bunch of points between $p_C = 0$ and $p_C = 1$."
   ]
  },
  {
   "cell_type": "code",
   "execution_count": 8,
   "id": "median-berlin",
   "metadata": {},
   "outputs": [],
   "source": [
    "# evaluate dp/dt for values of p between 0 and 1\n",
    "pV = np.linspace(0, 1, 100)\n",
    "dot_pC_res = [dot_pC(pC, n, tau, c) for pC in pV]"
   ]
  },
  {
   "cell_type": "markdown",
   "id": "burning-annual",
   "metadata": {},
   "source": [
    "Plot $\\dot{p}_C$ versus $p_C$"
   ]
  },
  {
   "cell_type": "code",
   "execution_count": 9,
   "id": "arranged-cheat",
   "metadata": {},
   "outputs": [
    {
     "data": {
      "image/png": "[encoded data removed]",
      "text/plain": [
       "<Figure size 504x360 with 1 Axes>"
      ]
     },
     "metadata": {
      "needs_background": "light"
     },
     "output_type": "display_data"
    }
   ],
   "source": [
    "plt.plot(pV, dot_pC_res, color='blue', label='$\\dot{p}_C$')\n",
    "plt.axhline(0, color='black') # a vertical line to show where the x-axis\n",
    "plt.xlabel('propn cooperators in popn, $p_C$')\n",
    "plt.ylabel('change in propn cooperators, $\\dot{p}_C$')\n",
    "plt.show()"
   ]
  },
  {
   "cell_type": "markdown",
   "id": "boolean-wagner",
   "metadata": {},
   "source": [
    "*Discuss steady states*"
   ]
  },
  {
   "cell_type": "markdown",
   "id": "bored-strand",
   "metadata": {},
   "source": [
    "## 2. Bonus: finding the steady states numerically"
   ]
  },
  {
   "cell_type": "markdown",
   "id": "given-woman",
   "metadata": {},
   "source": [
    "You can't find the interior roots of this function analytically, so we use a numerical method."
   ]
  },
  {
   "cell_type": "markdown",
   "id": "democratic-initial",
   "metadata": {},
   "source": [
    "To find the interior steady states, we only need to look at the $f_C - f_D$ term, which is also called the \"gain function\". I plot it below."
   ]
  },
  {
   "cell_type": "code",
   "execution_count": 10,
   "id": "falling-theology",
   "metadata": {},
   "outputs": [
    {
     "data": {
      "image/png": "[encoded data removed]",
      "text/plain": [
       "<Figure size 504x360 with 1 Axes>"
      ]
     },
     "metadata": {
      "needs_background": "light"
     },
     "output_type": "display_data"
    }
   ],
   "source": [
    "gainC = lambda pC: fC(pC, n, tau, c) - fD(pC, n, tau)\n",
    "\n",
    "gainC_res = [gainC(pC) for pC in pV]\n",
    "\n",
    "plt.plot(pV, gainC_res, color='blue', label='$\\dot{p}_C$')\n",
    "plt.axhline(0, color='black') # a vertical line to show where the x-axis is\n",
    "plt.xlabel('propn cooperators in popn, $p_C$')\n",
    "plt.ylabel('gain function for cooperators')\n",
    "plt.show()"
   ]
  },
  {
   "cell_type": "markdown",
   "id": "thousand-center",
   "metadata": {},
   "source": [
    "There are many root finding methods; I'll choose..."
   ]
  },
  {
   "cell_type": "code",
   "execution_count": 11,
   "id": "aboriginal-romania",
   "metadata": {},
   "outputs": [],
   "source": [
    "from scipy.optimize import brentq"
   ]
  },
  {
   "cell_type": "markdown",
   "id": "incoming-paradise",
   "metadata": {},
   "source": [
    "Looking at the graph, I know one steady state is somewhere between $p_C = 0.3$ and 0.5, and another between 0.5 and 0.8. So I'll make those my search bounds."
   ]
  },
  {
   "cell_type": "code",
   "execution_count": 12,
   "id": "behavioral-degree",
   "metadata": {},
   "outputs": [],
   "source": [
    "p_lo = brentq(gainC, 0.3, 0.5)\n",
    "p_hi= brentq(gainC, 0.5, 0.8)"
   ]
  },
  {
   "cell_type": "markdown",
   "id": "outstanding-crown",
   "metadata": {},
   "source": [
    "Replot with black dots where the steady states I found are."
   ]
  },
  {
   "cell_type": "code",
   "execution_count": 13,
   "id": "unknown-maryland",
   "metadata": {},
   "outputs": [
    {
     "data": {
      "image/png": "[encoded data removed]",
      "text/plain": [
       "<Figure size 504x360 with 1 Axes>"
      ]
     },
     "metadata": {
      "needs_background": "light"
     },
     "output_type": "display_data"
    }
   ],
   "source": [
    "plt.scatter([p_lo, p_hi], [0, 0], color='black')\n",
    "\n",
    "plt.plot(pV, dot_pC_res, color='blue', label='$\\dot{p}_C$')\n",
    "plt.axhline(0, color='black') # a vertical line to show where the x-axis\n",
    "plt.xlabel('propn cooperators in popn, $p_C$')\n",
    "plt.ylabel('change in propn cooperators, $\\dot{p}_C$')\n",
    "plt.show()"
   ]
  },
  {
   "cell_type": "markdown",
   "id": "solved-feeding",
   "metadata": {},
   "source": [
    "## 3. Your turn - plot $\\dot{p}$ for the scenario you were designated to"
   ]
  },
  {
   "cell_type": "markdown",
   "id": "surface-animation",
   "metadata": {},
   "source": [
    "### 3.1 Group 1: What happens if we increase cost of contributing $c$?"
   ]
  },
  {
   "cell_type": "code",
   "execution_count": 14,
   "id": "religious-black",
   "metadata": {},
   "outputs": [],
   "source": [
    "# choose parameter values\n",
    "n = 8\n",
    "tau = 5\n",
    "c = 0.3 # <-- increased cost"
   ]
  },
  {
   "cell_type": "markdown",
   "id": "liberal-attack",
   "metadata": {},
   "source": [
    "### 3.2 Group 2: What happens if we make $\\tau = 1$ (even if we make costs really high)?"
   ]
  },
  {
   "cell_type": "code",
   "execution_count": 15,
   "id": "activated-letters",
   "metadata": {},
   "outputs": [],
   "source": [
    "# choose parameter values\n",
    "n = 8\n",
    "tau = 1 # <-- tau reduced to 1\n",
    "c = 0.5 # <-- cost increased"
   ]
  },
  {
   "cell_type": "markdown",
   "id": "measured-waste",
   "metadata": {},
   "source": [
    "### 3.3 Group 3: What happens if we make $\\tau = n$ (even if we make costs high)?"
   ]
  },
  {
   "cell_type": "code",
   "execution_count": 16,
   "id": "loved-antique",
   "metadata": {},
   "outputs": [],
   "source": [
    "# choose parameter values\n",
    "n = 8\n",
    "tau = n # <-- tau increased to n\n",
    "c = 0.5 # <-- cost increased"
   ]
  }
 ],
 "metadata": {
  "kernelspec": {
   "display_name": "Python 3",
   "language": "python",
   "name": "python3"
  },
  "language_info": {
   "codemirror_mode": {
    "name": "ipython",
    "version": 3
   },
   "file_extension": ".py",
   "mimetype": "text/x-python",
   "name": "python",
   "nbconvert_exporter": "python",
   "pygments_lexer": "ipython3",
   "version": "3.9.2"
  }
 },
 "nbformat": 4,
 "nbformat_minor": 5
}
